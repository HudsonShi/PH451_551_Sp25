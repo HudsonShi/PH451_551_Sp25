{
  "cells": [
    {
      "cell_type": "markdown",
      "metadata": {
        "id": "view-in-github",
        "colab_type": "text"
      },
      "source": [
        "<a href=\"https://colab.research.google.com/github/UAPH451551/PH451_551_Sp25/blob/main/Exercises/06_training_deep_neural_networks.ipynb\" target=\"_parent\"><img src=\"https://colab.research.google.com/assets/colab-badge.svg\" alt=\"Open In Colab\"/></a>"
      ]
    },
    {
      "cell_type": "markdown",
      "metadata": {
        "id": "BuiK1GbXVeWQ"
      },
      "source": [
        "# Training Deep Neural Networks"
      ]
    },
    {
      "cell_type": "markdown",
      "metadata": {
        "id": "Vum1ecMSVeWU"
      },
      "source": [
        "File name convention: For group 42 and memebers Richard Stallman and Linus <br> Torvalds it would be <br>\n",
        "\"06_Goup42_Stallman_Torvalds.pdf\".\n",
        "\n",
        "Submission via blackboard (UA).\n",
        "\n",
        "Feel free to answer free text questions in text cells using markdown and <br>\n",
        "possibly $\\LaTeX{}$ if you want to.\n",
        "\n",
        "**You don't have to understand every line of code here and it is not intended** <br> **for you to try to understand every line of code.**<br>\n",
        "**Big blocks of code are usually meant to just be clicked through.**"
      ]
    },
    {
      "cell_type": "markdown",
      "metadata": {
        "id": "PdHpNoudVeWU"
      },
      "source": [
        "# Setup"
      ]
    },
    {
      "cell_type": "code",
      "execution_count": null,
      "metadata": {
        "id": "gzQlcbcGVeWV"
      },
      "outputs": [],
      "source": [
        "# Python ≥3.5 is required\n",
        "import sys\n",
        "assert sys.version_info >= (3, 5)\n",
        "\n",
        "# Scikit-Learn ≥0.20 is required\n",
        "import sklearn\n",
        "assert sklearn.__version__ >= \"0.20\"\n",
        "\n",
        "import torch\n",
        "assert torch.__version__ >= \"2.0\"\n",
        "from torch import nn\n",
        "from torch.utils.data import DataLoader, Dataset\n",
        "\n",
        "import keras\n",
        "\n",
        "%load_ext tensorboard\n",
        "\n",
        "# Common imports\n",
        "import numpy as np\n",
        "import os\n",
        "\n",
        "# to make this notebook's output stable across runs\n",
        "torch.manual_seed(42)\n",
        "np.random.seed(42)\n",
        "\n",
        "# To plot pretty figures\n",
        "%matplotlib inline\n",
        "import matplotlib as mpl\n",
        "import matplotlib.pyplot as plt\n",
        "mpl.rc('axes', labelsize=14)\n",
        "mpl.rc('xtick', labelsize=12)\n",
        "mpl.rc('ytick', labelsize=12)"
      ]
    },
    {
      "cell_type": "markdown",
      "metadata": {
        "id": "vdfX0dKQVeWV"
      },
      "source": [
        "# Vanishing/Exploding Gradients Problem\n",
        "\n",
        "Just like with SGD for linear regression, the fundamental procedure in simple <br>\n",
        "neural networks is to **update model weights and biases** by taking some form of <br>\n",
        "**partial derivative of a loss function** with respect to our weights and biases <br>\n",
        "and then **stepping our weights** in the direction of the negative partial <br>\n",
        "derivative.\n",
        "\n",
        "By **chain rule**, that means that we'll also need to have some kind of <br>\n",
        "**partial derivative of our activation function** with respect to our weights and <br>\n",
        "biases. If the **slope of an activation function** has a tendency to **explode** or <br>\n",
        "**vanish**, then our gradient might also explode or vanish which means we end up <br>\n",
        "taking **steps in our weights** that are **too large** or **too small**."
      ]
    },
    {
      "cell_type": "markdown",
      "metadata": {
        "id": "NyCN-ihMVeWW"
      },
      "source": [
        "### TASK 1: Sigmoid, Relu, Leaky Relu"
      ]
    },
    {
      "cell_type": "code",
      "execution_count": null,
      "metadata": {
        "id": "dyKgfaBkVeWW"
      },
      "outputs": [],
      "source": [
        "def logit(z):\n",
        "    return 1 / (1 + np.exp(-z))"
      ]
    },
    {
      "cell_type": "code",
      "execution_count": null,
      "metadata": {
        "id": "xsIoTdwPVeWW"
      },
      "outputs": [],
      "source": [
        "z = np.linspace(-5, 5, 200)\n",
        "\n",
        "plt.plot([-5, 5], [0, 0], 'k-')\n",
        "plt.plot([-5, 5], [1, 1], 'k--')\n",
        "plt.plot([0, 0], [-0.2, 1.2], 'k-')\n",
        "plt.plot([-5, 5], [-3/4, 7/4], 'g--')\n",
        "plt.plot(z, logit(z), \"b-\", linewidth=2)\n",
        "props = dict(facecolor='black', shrink=0.1)\n",
        "plt.annotate('', xytext=(3.5, 0.7), xy=(5, 1), arrowprops=props, fontsize=14, ha=\"center\")\n",
        "plt.annotate('', xytext=(-3.5, 0.3), xy=(-5, 0), arrowprops=props, fontsize=14, ha=\"center\")\n",
        "plt.annotate('', xytext=(2, 0.2), xy=(0, 0.5), arrowprops=props, fontsize=14, ha=\"center\")\n",
        "plt.grid(True)\n",
        "plt.title(\"Sigmoid activation function\", fontsize=14)\n",
        "plt.axis([-5, 5, -0.2, 1.2])\n",
        "\n",
        "plt.show()"
      ]
    },
    {
      "cell_type": "markdown",
      "metadata": {
        "id": "BPSnzzKbVeWX"
      },
      "source": [
        "**Task 1 a)** Describe the sigmoid activation function in the three indicated <br>\n",
        "regions in the above plot."
      ]
    },
    {
      "cell_type": "markdown",
      "metadata": {
        "id": "nsnymzLuLvm2"
      },
      "source": [
        "↓↓↓↓↓↓↓↓↓↓↓↓↓↓↓↓↓↓↓↓↓↓↓↓↓↓↓↓↓↓↓ your answer goes below"
      ]
    },
    {
      "cell_type": "markdown",
      "metadata": {
        "id": "T052eRDZVeWY"
      },
      "source": [
        "Task 1 a) answer:"
      ]
    },
    {
      "cell_type": "markdown",
      "metadata": {
        "id": "i0N2ZDw4VeWY"
      },
      "source": [
        "↑↑↑↑↑↑↑↑↑↑↑↑↑↑↑↑↑↑↑↑↑↑↑↑↑↑↑↑↑↑↑ your answer goes above"
      ]
    },
    {
      "cell_type": "markdown",
      "metadata": {
        "id": "QHJ6UnjCVeWY"
      },
      "source": [
        "### Leaky ReLU"
      ]
    },
    {
      "cell_type": "markdown",
      "metadata": {
        "id": "ts2lixZlVeWY"
      },
      "source": [
        "**Task 1 b)** Write the [leaky relu](https://en.wikipedia.org/wiki/Rectifier_(neural_networks)#Leaky_ReLU) function as `def leaky_relu():`. <br>\n",
        "It should take `z` as argument and also another optional argument `alpha` with <br> default value 0.01.<br>\n",
        "The leaky relu function is defined to be `alpha*z` for z<0 and `z` for z>0.\n",
        "\n",
        "(alterntively you can think about using `np.maximum` to make the distinction, <br> assuming alpha>0)"
      ]
    },
    {
      "cell_type": "markdown",
      "metadata": {
        "id": "uKQvZ-g7VeWZ"
      },
      "source": [
        "↓↓↓↓↓↓↓↓↓↓↓↓↓↓↓↓↓↓↓↓↓↓↓↓↓↓↓↓↓↓↓ your code goes below"
      ]
    },
    {
      "cell_type": "code",
      "execution_count": null,
      "metadata": {
        "id": "rWjs1EbxVeWZ"
      },
      "outputs": [],
      "source": []
    },
    {
      "cell_type": "markdown",
      "metadata": {
        "id": "8kI_1uaQVeWZ"
      },
      "source": [
        "↑↑↑↑↑↑↑↑↑↑↑↑↑↑↑↑↑↑↑↑↑↑↑↑↑↑↑↑↑↑↑ your code goes above"
      ]
    },
    {
      "cell_type": "code",
      "execution_count": null,
      "metadata": {
        "id": "Cfbe5XLRVeWZ"
      },
      "outputs": [],
      "source": [
        "plt.plot(z, leaky_relu(z, 0.05), \"b-\", linewidth=2)\n",
        "plt.plot([-5, 5], [0, 0], 'k-')\n",
        "plt.plot([0, 0], [-0.5, 4.2], 'k-')\n",
        "plt.grid(True)\n",
        "props = dict(facecolor='black', shrink=0.1)\n",
        "plt.annotate('', xytext=(-3.5, 0.5), xy=(-5, -0.2), arrowprops=props, fontsize=14, ha=\"center\")\n",
        "plt.title(\"Leaky ReLU activation function\", fontsize=14)\n",
        "plt.axis([-5, 5, -0.5, 4.2])\n",
        "\n",
        "plt.show()"
      ]
    },
    {
      "cell_type": "markdown",
      "metadata": {
        "id": "jwjJDDzBVeWa"
      },
      "source": [
        "**Task 1c)** Describe the difference between relu and leaky relu?\n",
        "Also explain why one might want to use leaky relu."
      ]
    },
    {
      "cell_type": "markdown",
      "metadata": {
        "id": "1Ts4OTJfVeWa"
      },
      "source": [
        "↓↓↓↓↓↓↓↓↓↓↓↓↓↓↓↓↓↓↓↓↓↓↓↓↓↓↓↓↓↓↓ your answer goes below"
      ]
    },
    {
      "cell_type": "markdown",
      "metadata": {
        "id": "bIeB0L14VeWa"
      },
      "source": [
        "Task 1c) answer:"
      ]
    },
    {
      "cell_type": "markdown",
      "metadata": {
        "id": "4en01z7DVeWa"
      },
      "source": [
        "↑↑↑↑↑↑↑↑↑↑↑↑↑↑↑↑↑↑↑↑↑↑↑↑↑↑↑↑↑↑↑ your answer goes above"
      ]
    },
    {
      "cell_type": "markdown",
      "metadata": {
        "id": "4QWkxwBxVeWa"
      },
      "source": [
        "##### Let's train a neural network on Fashion MNIST using the Leaky ReLU:"
      ]
    },
    {
      "cell_type": "code",
      "execution_count": null,
      "metadata": {
        "id": "2zBvPyXLVeWb"
      },
      "outputs": [],
      "source": [
        "# load fashion MNIST + train_test split\n",
        "(X_train_full, y_train_full), (X_test, y_test) = keras.datasets.fashion_mnist.load_data()\n",
        "X_train_full = X_train_full / 255.0\n",
        "X_test = X_test / 255.0\n",
        "X_valid, X_train = X_train_full[:5000], X_train_full[5000:]\n",
        "y_valid, y_train = y_train_full[:5000], y_train_full[5000:]"
      ]
    },
    {
      "cell_type": "code",
      "execution_count": null,
      "metadata": {
        "id": "FRIUnQUAEsNW"
      },
      "outputs": [],
      "source": [
        "class ClassificationDataset(Dataset):\n",
        "    def __init__(self, X, y):\n",
        "        self.X = torch.from_numpy(X.copy()).float()\n",
        "        self.y = torch.from_numpy(y.copy()).long()\n",
        "    def __len__(self):\n",
        "        return len(self.X)\n",
        "    def __getitem__(self, idx):\n",
        "        return self.X[idx], self.y[idx]"
      ]
    },
    {
      "cell_type": "code",
      "execution_count": null,
      "metadata": {
        "id": "Tp-feDfY-14P"
      },
      "outputs": [],
      "source": [
        "train_data = ClassificationDataset(X_train, y_train)\n",
        "valid_data = ClassificationDataset(X_valid, y_valid)\n",
        "test_data = ClassificationDataset(X_test, y_test)\n",
        "\n",
        "train_loader = DataLoader(train_data, batch_size=64, shuffle=True)\n",
        "test_loader = DataLoader(test_data, batch_size=64, shuffle=False)\n",
        "valid_loader = DataLoader(valid_data, batch_size=64, shuffle=False)"
      ]
    },
    {
      "cell_type": "code",
      "execution_count": null,
      "metadata": {
        "id": "BZ4zQYliVeWb"
      },
      "outputs": [],
      "source": [
        "torch.manual_seed(42)\n",
        "np.random.seed(42)\n",
        "\n",
        "model = torch.nn.Sequential(\n",
        "    nn.Flatten(),\n",
        "    nn.Linear(28*28, 300),\n",
        "    nn.LeakyReLU(),\n",
        "    nn.Linear(300, 100),\n",
        "    nn.LeakyReLU(),\n",
        "    nn.Linear(100, 10),\n",
        ")"
      ]
    },
    {
      "cell_type": "code",
      "source": [
        "def train_and_validate(train_loader, val_loader, model, optimizer, criterion, num_epochs, metric):\n",
        "    history = {\n",
        "        'epoch': [],\n",
        "        'train_loss': [],\n",
        "        'train_metric': [],\n",
        "        'val_loss': [],\n",
        "        'val_metric': []\n",
        "    }  # Initialize a dictionary to store epoch-wise results\n",
        "\n",
        "    with torch.no_grad():\n",
        "        proper_dtype = torch.int64\n",
        "        X,y = next(iter(train_loader))\n",
        "        try:\n",
        "            loss = criterion(model(X), y.to(proper_dtype))\n",
        "        except:\n",
        "            try:\n",
        "                proper_dtype = torch.float32\n",
        "                loss = criterion(model(X), y.to(proper_dtype))\n",
        "            except:\n",
        "                print(\"No valid data-type could be found\")\n",
        "\n",
        "    for epoch in range(num_epochs):\n",
        "        model.train()  # Set the model to training mode\n",
        "        epoch_loss = 0.0  # Initialize the epoch loss and metric values\n",
        "        epoch_metric = 0.0\n",
        "\n",
        "        # Training loop\n",
        "        for X, y in train_loader:\n",
        "            y = y.to(proper_dtype)\n",
        "            optimizer.zero_grad()  # Clear existing gradients\n",
        "            outputs = model(X)  # Make predictions\n",
        "            loss = criterion(outputs, y)  # Compute the loss\n",
        "            loss.backward()  # Compute gradients\n",
        "            optimizer.step()  # Update model parameters\n",
        "\n",
        "            epoch_loss += loss.item()\n",
        "            epoch_metric += metric(outputs, y)\n",
        "\n",
        "        # Average training loss and metric\n",
        "        epoch_loss /= len(train_loader)\n",
        "        epoch_metric /= len(train_loader)\n",
        "\n",
        "        # Validation loop\n",
        "        model.eval()  # Set the model to evaluation mode\n",
        "        with torch.no_grad():  # Disable gradient calculation\n",
        "            val_loss = 0.0\n",
        "            val_metric = 0.0\n",
        "            for X_val, y_val in val_loader:\n",
        "                y_val = y_val.to(proper_dtype)\n",
        "                outputs_val = model(X_val)  # Make predictions\n",
        "                val_loss += criterion(outputs_val, y_val).item()  # Compute loss\n",
        "                val_metric += metric(outputs_val, y_val)\n",
        "\n",
        "            val_loss /= len(val_loader)\n",
        "            val_metric /= len(val_loader)\n",
        "\n",
        "        # Append epoch results to history\n",
        "        history['epoch'].append(epoch)\n",
        "        history['train_loss'].append(epoch_loss)\n",
        "        history['train_metric'].append(epoch_metric)\n",
        "        history['val_loss'].append(val_loss)\n",
        "        history['val_metric'].append(val_metric)\n",
        "\n",
        "        print(f'Epoch [{epoch+1}/{num_epochs}], Train Loss: {epoch_loss:.4f}, '\n",
        "              f'Train Metric: {epoch_metric:.4f}, Val Loss: {val_loss:.4f}, '\n",
        "              f'Val Metric: {val_metric:.4f}')\n",
        "\n",
        "    return history, model"
      ],
      "metadata": {
        "id": "F-yIIV-TIWDN"
      },
      "execution_count": null,
      "outputs": []
    },
    {
      "cell_type": "code",
      "source": [
        "criterion = nn.CrossEntropyLoss()\n",
        "optimizer = torch.optim.SGD(model.parameters(), lr=0.001)\n",
        "\n",
        "def accuracy_metric(pred, target):\n",
        "    if len(pred.shape) == 1:\n",
        "        accuracy = torch.sum(torch.eq(pred > 0.5, target)).item() / len(pred)\n",
        "    else:\n",
        "        pred = pred.argmax(dim=1)\n",
        "        accuracy = torch.sum(pred == target).item() / len(pred)\n",
        "    return accuracy"
      ],
      "metadata": {
        "id": "Rvl9z0UwIyrl"
      },
      "execution_count": null,
      "outputs": []
    },
    {
      "cell_type": "code",
      "execution_count": null,
      "metadata": {
        "scrolled": true,
        "id": "I6BRfaxwVeWb"
      },
      "outputs": [],
      "source": [
        "history, model = train_and_validate(train_loader, valid_loader, model,\n",
        "                                    optimizer=optimizer, criterion=criterion,\n",
        "                                    num_epochs=10, metric=accuracy_metric)"
      ]
    },
    {
      "cell_type": "markdown",
      "metadata": {
        "id": "dhvk8AW7VeWc"
      },
      "source": [
        "### TASK 2: ELU\n",
        "**Task 2 a)** Describe the [ELU activation](https://paperswithcode.com/method/elu) function and compare to LeakyRelu. <br>\n",
        "The definition is described in Chapter 11 or alternatively at the above link."
      ]
    },
    {
      "cell_type": "markdown",
      "metadata": {
        "id": "b8Bl9-llVeWc"
      },
      "source": [
        "↓↓↓↓↓↓↓↓↓↓↓↓↓↓↓↓↓↓↓↓↓↓↓↓↓↓↓↓↓↓↓ your answer goes below"
      ]
    },
    {
      "cell_type": "markdown",
      "metadata": {
        "id": "OnONz5vdVeWc"
      },
      "source": [
        "Task 2 a) answer:"
      ]
    },
    {
      "cell_type": "markdown",
      "metadata": {
        "id": "9v0A0WekVeWc"
      },
      "source": [
        "↑↑↑↑↑↑↑↑↑↑↑↑↑↑↑↑↑↑↑↑↑↑↑↑↑↑↑↑↑↑↑ your answer goes above"
      ]
    },
    {
      "cell_type": "markdown",
      "metadata": {
        "id": "FZAMtpWaVeWc"
      },
      "source": [
        "**Task 2 b)** Similar to `leaky_relu` above, write the function `def elu():` as <br> a function of z with optional argument `alpha=1` (meaning that the default <br> value is 1)."
      ]
    },
    {
      "cell_type": "markdown",
      "metadata": {
        "id": "cifsW9jUVeWc"
      },
      "source": [
        "↓↓↓↓↓↓↓↓↓↓↓↓↓↓↓↓↓↓↓↓↓↓↓↓↓↓↓↓↓↓↓ your code goes below"
      ]
    },
    {
      "cell_type": "code",
      "execution_count": null,
      "metadata": {
        "id": "7iGUTv-dVeWc"
      },
      "outputs": [],
      "source": []
    },
    {
      "cell_type": "markdown",
      "metadata": {
        "id": "jLxWALLoVeWc"
      },
      "source": [
        "↑↑↑↑↑↑↑↑↑↑↑↑↑↑↑↑↑↑↑↑↑↑↑↑↑↑↑↑↑↑↑ your code goes above"
      ]
    },
    {
      "cell_type": "code",
      "execution_count": null,
      "metadata": {
        "id": "bPN7OA3YVeWd"
      },
      "outputs": [],
      "source": [
        "plt.plot(z, elu(z), \"b-\", linewidth=2)\n",
        "plt.plot([-5, 5], [0, 0], 'k-')\n",
        "plt.plot([-5, 5], [-1, -1], 'k--')\n",
        "plt.plot([0, 0], [-2.2, 3.2], 'k-')\n",
        "plt.grid(True)\n",
        "plt.title(r\"ELU activation function ($\\alpha=1$)\", fontsize=14)\n",
        "plt.annotate('', xytext=(-3.5, 0), xy=(-4, -1), arrowprops=props, fontsize=14, ha=\"center\")\n",
        "plt.axis([-5, 5, -2.2, 3.2])\n",
        "\n",
        "plt.show()"
      ]
    },
    {
      "cell_type": "code",
      "execution_count": null,
      "metadata": {
        "id": "K_zX1ZGRVeWd"
      },
      "outputs": [],
      "source": [
        "torch.manual_seed(42)\n",
        "np.random.seed(42)"
      ]
    },
    {
      "cell_type": "markdown",
      "metadata": {
        "id": "vnCxOIWmVeWd"
      },
      "source": [
        "To use the elu activation function in TensorFlow you need to specify the <Br> activation function when building each layer (Check on the [Pytorch Website](https://pytorch.org/docs/stable/nn.html#non-linear-activations-weighted-sum-nonlinearity)\n",
        "<br>\n",
        "for some examples): <br>\n",
        "`nn.ELU()`"
      ]
    },
    {
      "cell_type": "markdown",
      "metadata": {
        "id": "TLXw3RvHVeWd"
      },
      "source": [
        "**Task 2 c)** Using the same layer dimensions from the previous model <br> (LeakyRelu), train with ELU activation instead."
      ]
    },
    {
      "cell_type": "markdown",
      "metadata": {
        "id": "aFprgEuGVeWd"
      },
      "source": [
        "↓↓↓↓↓↓↓↓↓↓↓↓↓↓↓↓↓↓↓↓↓↓↓↓↓↓↓↓↓↓↓ your code goes below"
      ]
    },
    {
      "cell_type": "code",
      "execution_count": null,
      "metadata": {
        "id": "Cu4Vt8JHVeWd"
      },
      "outputs": [],
      "source": [
        "# model = ..."
      ]
    },
    {
      "cell_type": "markdown",
      "metadata": {
        "id": "wPVhUUhfVeWe"
      },
      "source": [
        "↑↑↑↑↑↑↑↑↑↑↑↑↑↑↑↑↑↑↑↑↑↑↑↑↑↑↑↑↑↑↑ your code goes above"
      ]
    },
    {
      "cell_type": "code",
      "source": [
        "criterion = nn.CrossEntropyLoss()\n",
        "optimizer = torch.optim.SGD(model.parameters(), lr=0.001)\n",
        "\n",
        "def accuracy_metric(pred, target):\n",
        "    if len(pred.shape) == 1:\n",
        "        accuracy = torch.sum(torch.eq(pred > 0.5, target)).item() / len(pred)\n",
        "    else:\n",
        "        pred = pred.argmax(dim=1)\n",
        "        accuracy = torch.sum(pred == target).item() / len(pred)\n",
        "    return accuracy"
      ],
      "metadata": {
        "id": "taUzyXnVKEku"
      },
      "execution_count": null,
      "outputs": []
    },
    {
      "cell_type": "code",
      "execution_count": null,
      "metadata": {
        "id": "g2J3P6NvVeWe"
      },
      "outputs": [],
      "source": [
        "history, model = train_and_validate(train_loader, valid_loader, model,\n",
        "                                    optimizer=optimizer, criterion=criterion,\n",
        "                                    num_epochs=1, metric=accuracy_metric)"
      ]
    },
    {
      "cell_type": "markdown",
      "metadata": {
        "id": "7Umd-Y5OVeWe"
      },
      "source": [
        "## Task 3: Batch Normalization\n",
        "**Task 3 a)** Build a NN with two hidden layers with 300 and 100 nodes. Use <br>\n",
        "RELU as activation function. Add [Batch Normalization](https://pytorch.org/docs/stable/generated/torch.nn.BatchNorm1d.html) layers before each <br>\n",
        "dense layer (check the definition in Chapter 11)   "
      ]
    },
    {
      "cell_type": "markdown",
      "metadata": {
        "id": "fwg8HPGaVeWe"
      },
      "source": [
        "↓↓↓↓↓↓↓↓↓↓↓↓↓↓↓↓↓↓↓↓↓↓↓↓↓↓↓↓↓↓↓ your code goes below"
      ]
    },
    {
      "cell_type": "code",
      "execution_count": null,
      "metadata": {
        "id": "nG3v0q-TVeWe"
      },
      "outputs": [],
      "source": [
        "model = nn.Sequential(\n",
        "    nn.Flatten(),\n",
        "    # ↓↓↓↓↓↓↓↓↓↓↓↓↓↓↓↓↓↓↓↓↓↓↓↓↓↓↓↓↓↓↓\n",
        "\n",
        "    # ↑↑↑↑↑↑↑↑↑↑↑↑↑↑↑↑↑↑↑↑↑↑↑↑↑↑↑↑↑↑↑\n",
        "    nn.Linear(10),\n",
        ")"
      ]
    },
    {
      "cell_type": "markdown",
      "metadata": {
        "id": "pIdD7ftLVeWe"
      },
      "source": [
        "↑↑↑↑↑↑↑↑↑↑↑↑↑↑↑↑↑↑↑↑↑↑↑↑↑↑↑↑↑↑↑ your code goes above"
      ]
    },
    {
      "cell_type": "code",
      "source": [
        "criterion = torch.nn.CrossEntropyLoss()\n",
        "optimizer = torch.optim.SGD(model.parameters(), lr=0.001)\n",
        "\n",
        "def accuracy_metric(pred, target):\n",
        "    if len(pred.shape) == 1:\n",
        "        accuracy = torch.sum(torch.eq(pred > 0.5, target)).item() / len(pred)\n",
        "    else:\n",
        "        pred = pred.argmax(dim=1)\n",
        "        accuracy = torch.sum(pred == target).item() / len(pred)\n",
        "    return accuracy"
      ],
      "metadata": {
        "id": "kj0LojW8MWqV"
      },
      "execution_count": null,
      "outputs": []
    },
    {
      "cell_type": "code",
      "execution_count": null,
      "metadata": {
        "id": "jrPLDvNCMWqV"
      },
      "outputs": [],
      "source": [
        "history, model = train_and_validate(train_loader, valid_loader, model,\n",
        "                                    optimizer=optimizer, criterion=criterion,\n",
        "                                    num_epochs=25, metric=accuracy_metric)"
      ]
    },
    {
      "cell_type": "code",
      "execution_count": null,
      "metadata": {
        "id": "kM2u6jcUVeWf"
      },
      "outputs": [],
      "source": [
        "print(model)"
      ]
    },
    {
      "cell_type": "markdown",
      "metadata": {
        "id": "FsRzlilQVeWf"
      },
      "source": [
        "**Task 3 b)** Explain what batch normalization does and discuss the results of above training."
      ]
    },
    {
      "cell_type": "markdown",
      "metadata": {
        "id": "7zT7x27pVeWf"
      },
      "source": [
        "↓↓↓↓↓↓↓↓↓↓↓↓↓↓↓↓↓↓↓↓↓↓↓↓↓↓↓↓↓↓↓ your answer goes below"
      ]
    },
    {
      "cell_type": "markdown",
      "metadata": {
        "id": "gJ-s9RlzVeWf"
      },
      "source": [
        "Task 3b) answer:"
      ]
    },
    {
      "cell_type": "markdown",
      "metadata": {
        "id": "AIPTBuROVeWf"
      },
      "source": [
        "↑↑↑↑↑↑↑↑↑↑↑↑↑↑↑↑↑↑↑↑↑↑↑↑↑↑↑↑↑↑↑ your answer goes above"
      ]
    },
    {
      "cell_type": "markdown",
      "metadata": {
        "id": "ljBkMeqGVeWg"
      },
      "source": [
        "## Task 4: Reusing a Pytorch model"
      ]
    },
    {
      "cell_type": "markdown",
      "metadata": {
        "id": "9rbAMSSiVeWg"
      },
      "source": [
        "Let's split the fashion MNIST training set in two: <br>\n",
        "* `X_train_A`: all images of all items except for sandals and shirts (classes 5 and 6).<br>\n",
        "* `X_train_B`: a much smaller training set of just the first 200 images of sandals or shirts.\n",
        "\n",
        "The validation set and the test set are also split this way, but without <br>\n",
        "restricting the number of images.\n",
        "\n",
        "**We will train a model on set A (classification task with 8 classes), and try to** <br>\n",
        "**reuse it to tackle set B (binary classification).** We hope to transfer a little <br>\n",
        "bit of knowledge from task A to task B, since classes in set A (sneakers, <br>\n",
        "ankle boots, coats, t-shirts, etc.) are somewhat similar to classes in set B <br>\n",
        "(sandals and shirts). However, **since we are using `Dense` layers, only patterns** <br>\n",
        "**that occur at the same location can be reused** (in contrast, **convolutional <br> layers will transfer much better**, since learned patterns can be detected <br>\n",
        "anywhere on the image, as we will see in the CNN chapter)."
      ]
    },
    {
      "cell_type": "code",
      "execution_count": null,
      "metadata": {
        "id": "9PxxBOgTVeWg"
      },
      "outputs": [],
      "source": [
        "def split_dataset(X, y):\n",
        "    y_5_or_6 = (y == 5) | (y == 6) # sandals or shirts\n",
        "    y_A = y[~y_5_or_6]\n",
        "    y_A[y_A > 6] -= 2 # class indices 7, 8, 9 should be moved to 5, 6, 7\n",
        "    y_B = (y[y_5_or_6] == 6).astype(np.float32) # binary classification task: is it a shirt (class 6)?\n",
        "    return ((X[~y_5_or_6], y_A),\n",
        "            (X[y_5_or_6], y_B))\n",
        "\n",
        "(X_train_A, y_train_A), (X_train_B, y_train_B) = split_dataset(X_train, y_train)\n",
        "(X_valid_A, y_valid_A), (X_valid_B, y_valid_B) = split_dataset(X_valid, y_valid)\n",
        "(X_test_A, y_test_A), (X_test_B, y_test_B) = split_dataset(X_test, y_test)\n",
        "X_train_B = X_train_B[:200]\n",
        "y_train_B = y_train_B[:200]"
      ]
    },
    {
      "cell_type": "code",
      "execution_count": null,
      "metadata": {
        "id": "LD33Y825M-AB"
      },
      "outputs": [],
      "source": [
        "class ClassificationDataset(Dataset):\n",
        "    def __init__(self, X, y):\n",
        "        self.X = torch.from_numpy(X.copy()).float()\n",
        "        self.y = torch.from_numpy(y.copy()).long()\n",
        "    def __len__(self):\n",
        "        return len(self.X)\n",
        "    def __getitem__(self, idx):\n",
        "        return self.X[idx], self.y[idx]"
      ]
    },
    {
      "cell_type": "code",
      "execution_count": null,
      "metadata": {
        "id": "b8mwr0wdM-AB"
      },
      "outputs": [],
      "source": [
        "train_data = ClassificationDataset(X_train_A, y_train_A)\n",
        "valid_data = ClassificationDataset(X_valid_A, y_valid_A)\n",
        "test_data = ClassificationDataset(X_test_A, y_test_A)\n",
        "\n",
        "train_loader_A = DataLoader(train_data, batch_size=64, shuffle=True)\n",
        "test_loader_A = DataLoader(test_data, batch_size=64, shuffle=False)\n",
        "valid_loader_A = DataLoader(valid_data, batch_size=64, shuffle=False)"
      ]
    },
    {
      "cell_type": "code",
      "source": [
        "train_data = ClassificationDataset(X_train_B, y_train_B)\n",
        "valid_data = ClassificationDataset(X_valid_B, y_valid_B)\n",
        "test_data = ClassificationDataset(X_test_B, y_test_B)\n",
        "\n",
        "train_loader_B = DataLoader(train_data, batch_size=64, shuffle=True)\n",
        "test_loader_B = DataLoader(test_data, batch_size=64, shuffle=False)\n",
        "valid_loader_B = DataLoader(valid_data, batch_size=64, shuffle=False)"
      ],
      "metadata": {
        "id": "taLm_R1NNVK7"
      },
      "execution_count": null,
      "outputs": []
    },
    {
      "cell_type": "code",
      "execution_count": null,
      "metadata": {
        "id": "d7mQaRIwVeWg"
      },
      "outputs": [],
      "source": [
        "torch.manual_seed(42)\n",
        "np.random.seed(42)"
      ]
    },
    {
      "cell_type": "code",
      "source": [
        "model_A = nn.Sequential()\n",
        "model_A.append(nn.Flatten())\n",
        "n_last = 28*28\n",
        "for n_hidden in (300, 100, 50, 50, 50):\n",
        "    model_A.append(nn.Linear(n_last, n_hidden))\n",
        "    model_A.append(nn.SELU())\n",
        "    n_last = n_hidden\n",
        "model_A.append(nn.Linear(n_last, 8))"
      ],
      "metadata": {
        "id": "6MDH-AAHmPMQ"
      },
      "execution_count": null,
      "outputs": []
    },
    {
      "cell_type": "code",
      "source": [
        "criterion_A = torch.nn.CrossEntropyLoss()\n",
        "optimizer = torch.optim.SGD(model_A.parameters(), lr=0.001)\n",
        "\n",
        "def accuracy_metric(pred, target):\n",
        "    if len(pred.shape) == 1:\n",
        "        accuracy = torch.sum(torch.eq(pred > 0.5, target)).item() / len(pred)\n",
        "    else:\n",
        "        pred = pred.argmax(dim=1)\n",
        "        accuracy = torch.sum(pred == target).item() / len(pred)\n",
        "    return accuracy"
      ],
      "metadata": {
        "id": "KPh95jeoOct0"
      },
      "execution_count": null,
      "outputs": []
    },
    {
      "cell_type": "code",
      "source": [
        "history_A, model_A = train_and_validate(train_loader_A, valid_loader_A, model_A,\n",
        "                                        optimizer=optimizer, criterion=criterion_A,\n",
        "                                        num_epochs=30, metric=accuracy_metric)"
      ],
      "metadata": {
        "id": "DP3zvLKKmFnA"
      },
      "execution_count": null,
      "outputs": []
    },
    {
      "cell_type": "code",
      "execution_count": null,
      "metadata": {
        "id": "JqBpiXkzVeWh"
      },
      "outputs": [],
      "source": [
        "model_B = nn.Sequential()\n",
        "model_B.append(nn.Flatten())\n",
        "n_last = 28*28\n",
        "for n_hidden in (300, 100, 50, 50, 50):\n",
        "    model_B.append(nn.Linear(n_last, n_hidden))\n",
        "    model_B.append(nn.SELU())\n",
        "    n_last = n_hidden\n",
        "model_B.append(nn.Linear(n_last, 1))\n",
        "model_B.append(nn.Sigmoid())\n",
        "model_B.append(nn.Flatten(start_dim=0))"
      ]
    },
    {
      "cell_type": "code",
      "source": [
        "criterion_B = nn.BCELoss()\n",
        "optimizer = torch.optim.SGD(model_B.parameters(), lr=0.001)\n",
        "\n",
        "def accuracy_metric(pred, target):\n",
        "    if len(pred.shape) == 1:\n",
        "        accuracy = torch.sum(torch.eq(pred > 0.5, target)).item() / len(pred)\n",
        "    else:\n",
        "        pred = pred.argmax(dim=1)\n",
        "        accuracy = torch.sum(pred == target).item() / len(pred)\n",
        "    return accuracy"
      ],
      "metadata": {
        "id": "GDPuuWK9OnPK"
      },
      "execution_count": null,
      "outputs": []
    },
    {
      "cell_type": "code",
      "source": [
        "history_B, model_B = train_and_validate(train_loader_B, valid_loader_B, model_B,\n",
        "                                        optimizer=optimizer, criterion=criterion_B,\n",
        "                                        num_epochs=30, metric=accuracy_metric)"
      ],
      "metadata": {
        "id": "9NQWNQzBmKlA"
      },
      "execution_count": null,
      "outputs": []
    },
    {
      "cell_type": "code",
      "execution_count": null,
      "metadata": {
        "id": "Ib7b4_-GVeWi"
      },
      "outputs": [],
      "source": [
        "model_B_on_A = nn.Sequential()\n",
        "for module in list(model_A.modules())[1:-1]:\n",
        "    model_B_on_A.append(module)\n",
        "model_B_on_A.append(nn.Linear(8, 1))\n",
        "model_B_on_A.append(nn.Sigmoid())\n",
        "model_B_on_A.append(nn.Flatten(start_dim=0))"
      ]
    },
    {
      "cell_type": "markdown",
      "metadata": {
        "id": "tJNpOrlFVeWi"
      },
      "source": [
        "Note that `model_B_on_A` and `model_A` actually share layers now, so **when we** <br>\n",
        "**train one, it will update both models**. If we want **to avoid that**, we need to <br>\n",
        "**build `model_B_on_A` on top of a clone of `model_A`**:"
      ]
    },
    {
      "cell_type": "code",
      "source": [
        "import copy"
      ],
      "metadata": {
        "id": "jRxMirtTtTVo"
      },
      "execution_count": null,
      "outputs": []
    },
    {
      "cell_type": "code",
      "execution_count": null,
      "metadata": {
        "id": "w92mBnQyVeWi"
      },
      "outputs": [],
      "source": [
        "model_A_clone = copy.deepcopy(model_A)\n",
        "model_A_clone.load_state_dict(model_A.state_dict())"
      ]
    },
    {
      "cell_type": "code",
      "execution_count": null,
      "metadata": {
        "id": "_u3lWiVpVeWi"
      },
      "outputs": [],
      "source": [
        "for param in model_B_on_A.parameters():\n",
        "    param.requires_grad = False"
      ]
    },
    {
      "cell_type": "code",
      "source": [
        "optimizer = torch.optim.SGD(model_B_on_A.parameters(), lr=0.001)"
      ],
      "metadata": {
        "id": "53x5-l_NvYwl"
      },
      "execution_count": null,
      "outputs": []
    },
    {
      "cell_type": "code",
      "execution_count": null,
      "metadata": {
        "id": "xtemagkpVeWi"
      },
      "outputs": [],
      "source": [
        "for param in model_B_on_A.parameters():\n",
        "    param.requires_grad = True\n",
        "\n",
        "history_B_on_A, model_B_on_A = train_and_validate(train_loader_B, valid_loader_B, model_B_on_A,\n",
        "                                                  optimizer=optimizer, criterion=criterion_B,\n",
        "                                                  num_epochs=30, metric=accuracy_metric)"
      ]
    },
    {
      "cell_type": "markdown",
      "metadata": {
        "id": "nh6BZtgAVeWi"
      },
      "source": [
        "Task 4:\n",
        "a) Evaluate the loss and accuracy of the two models `model_B` and <br> `model_B_on_A` on the sandals/shirts dataset."
      ]
    },
    {
      "cell_type": "code",
      "source": [
        "def test_model(model, data_loader, criterion, metric=None):\n",
        "    model.eval()  # Set the model to evaluation mode\n",
        "\n",
        "    total_loss = 0.0  # Initialize the total loss and metric values\n",
        "    total_metric = 0.0\n",
        "\n",
        "    with torch.no_grad():\n",
        "        proper_dtype = torch.int64\n",
        "        X,y = next(iter(train_loader))\n",
        "        try:\n",
        "            loss = criterion(model(X), y.to(proper_dtype))\n",
        "        except:\n",
        "            try:\n",
        "                proper_dtype = torch.float32\n",
        "                loss = criterion(model(X), y.to(proper_dtype))\n",
        "            except:\n",
        "                print(\"No valid data-type could be found\")\n",
        "\n",
        "\n",
        "    with torch.no_grad():  # Disable gradient tracking\n",
        "        for batch in data_loader:\n",
        "            X, y = batch\n",
        "            y = y.to(proper_dtype)\n",
        "            # Pass the data to the model and make predictions\n",
        "            outputs = model(X)\n",
        "\n",
        "            # Compute the loss\n",
        "            loss = criterion(outputs, y)\n",
        "\n",
        "            # Add the loss and metric for the batch to the total values\n",
        "            total_loss += loss.item()\n",
        "\n",
        "            # THESE LINES HAVE BEEN UPDATED TO ACCOUNT FOR DEFAULT ARGUMENTS\n",
        "            if metric is not None:\n",
        "                total_metric += metric(outputs, y)\n",
        "            else:\n",
        "                total_metric += 0.0\n",
        "\n",
        "    # Average loss and metric for the entire dataset\n",
        "    avg_loss = total_loss / len(data_loader)\n",
        "    avg_metric = total_metric / len(data_loader)\n",
        "\n",
        "    print(f'Test Loss: {avg_loss:.4f}, Test Metric: {avg_metric:.4f}')\n",
        "\n",
        "    return avg_loss, avg_metric"
      ],
      "metadata": {
        "id": "lKJ58TH0Wtwj"
      },
      "execution_count": null,
      "outputs": []
    },
    {
      "cell_type": "markdown",
      "metadata": {
        "id": "gEZrJp3sVeWi"
      },
      "source": [
        "↓↓↓↓↓↓↓↓↓↓↓↓↓↓↓↓↓↓↓↓↓↓↓↓↓↓↓↓↓↓↓ your code goes below"
      ]
    },
    {
      "cell_type": "code",
      "source": [],
      "metadata": {
        "id": "vIaevS74lxUO"
      },
      "execution_count": null,
      "outputs": []
    },
    {
      "cell_type": "markdown",
      "metadata": {
        "id": "jdPKnttrVeWj"
      },
      "source": [
        "↑↑↑↑↑↑↑↑↑↑↑↑↑↑↑↑↑↑↑↑↑↑↑↑↑↑↑↑↑↑↑ your code goes above"
      ]
    },
    {
      "cell_type": "markdown",
      "metadata": {
        "id": "Sv2-L0hNVeWj"
      },
      "source": [
        "b) In your own words, explain above \"transfer learning\". Did it help?"
      ]
    },
    {
      "cell_type": "markdown",
      "metadata": {
        "id": "ON0vOBS7VeWj"
      },
      "source": [
        "↓↓↓↓↓↓↓↓↓↓↓↓↓↓↓↓↓↓↓↓↓↓↓↓↓↓↓↓↓↓↓ your answer goes below"
      ]
    },
    {
      "cell_type": "markdown",
      "metadata": {
        "id": "BSu8C8TcVeWj"
      },
      "source": [
        "Task"
      ]
    },
    {
      "cell_type": "markdown",
      "metadata": {
        "id": "jkXd9M3lVeWj"
      },
      "source": [
        "↑↑↑↑↑↑↑↑↑↑↑↑↑↑↑↑↑↑↑↑↑↑↑↑↑↑↑↑↑↑↑ your answer goes above"
      ]
    },
    {
      "cell_type": "markdown",
      "metadata": {
        "id": "IWG9imbQVeWj"
      },
      "source": [
        "## Task 5: Learning Rate Scheduling\n",
        "\n",
        "Just like when we learned about SGD for linear regression, **decreasing the** <br>\n",
        "**learning rate over time can improve convergence**. One way to do this is to write <br>\n",
        "a schedule to decay the learning rate as a function of epoch number.\n",
        "\n",
        "Let's add a an exponential decay of the learning rate:"
      ]
    },
    {
      "cell_type": "markdown",
      "metadata": {
        "id": "4ZPLs_cVVeWj"
      },
      "source": [
        "We will use the following learning rate schedule (exponential):   \n",
        "$ lr = lr_0 \\cdot 0.1 ^ {epoch / 20}$"
      ]
    },
    {
      "cell_type": "code",
      "execution_count": null,
      "metadata": {
        "id": "drf86URsVeWk"
      },
      "outputs": [],
      "source": [
        "def exponential_decay(lr0, s):\n",
        "    def exponential_decay_fn(epoch):\n",
        "        return lr0 * 0.1**(epoch / s)\n",
        "    return exponential_decay_fn\n",
        "\n",
        "exponential_decay_fn = exponential_decay(lr0=0.01, s=20)"
      ]
    },
    {
      "cell_type": "markdown",
      "metadata": {
        "id": "ssGWOMHMVeWl"
      },
      "source": [
        "**Note: If you want to use learning rate decay, it is probably better to use a** <br>\n",
        "**Pytorch built-in function like [ExponentialLR](hhttps://pytorch.org/docs/stable/generated/torch.optim.lr_scheduler.ExponentialLR.html#torch.optim.lr_scheduler.ExponentialLR) and not program it yourself.**"
      ]
    },
    {
      "cell_type": "markdown",
      "source": [
        "In order to make our training loop more flexible, we'll add **default values** of <br>\n",
        "`None` for the **metric** and **scheduler**. Depending on the task, we might not <br>\n",
        "always need or want to use a metric or scheduler but this will be our new <br>\n",
        "train and validation loop. We've also added **learning rate tracking** to our <br>\n",
        "model history output."
      ],
      "metadata": {
        "id": "sana55-QUyIh"
      }
    },
    {
      "cell_type": "code",
      "source": [
        "def train_and_validate(train_loader, val_loader, model, optimizer, criterion, num_epochs, metric=None, scheduler=None):\n",
        "    history = {\n",
        "        'epoch': [],\n",
        "        'train_loss': [],\n",
        "        'train_metric': [],\n",
        "        'val_loss': [],\n",
        "        'val_metric': [],\n",
        "        'learning_rate': []\n",
        "    }  # Initialize a dictionary to store epoch-wise results\n",
        "\n",
        "    with torch.no_grad():\n",
        "        proper_dtype = torch.int64\n",
        "        X,y = next(iter(train_loader))\n",
        "        try:\n",
        "            loss = criterion(model(X), y.to(proper_dtype))\n",
        "        except:\n",
        "            try:\n",
        "                proper_dtype = torch.float32\n",
        "                loss = criterion(model(X), y.to(proper_dtype))\n",
        "            except:\n",
        "                print(\"No valid data-type could be found\")\n",
        "\n",
        "    for epoch in range(num_epochs):\n",
        "        model.train()  # Set the model to training mode\n",
        "        epoch_loss = 0.0  # Initialize the epoch loss and metric values\n",
        "        epoch_metric = 0.0\n",
        "\n",
        "        # Training loop\n",
        "        for X, y in train_loader:\n",
        "            y = y.to(proper_dtype)\n",
        "            optimizer.zero_grad()  # Clear existing gradients\n",
        "            outputs = model(X)  # Make predictions\n",
        "            loss = criterion(outputs, y)  # Compute the loss\n",
        "            loss.backward()  # Compute gradients\n",
        "            optimizer.step()  # Update model parameters\n",
        "\n",
        "            epoch_loss += loss.item()\n",
        "\n",
        "            # THESE LINES HAVE BEEN UPDATED TO ACCOUNT FOR DEFAULT ARGUMENTS\n",
        "            if metric is not None:\n",
        "                epoch_metric += metric(outputs, y)\n",
        "            else:\n",
        "                epoch_metric += 0.0\n",
        "\n",
        "        # Average training loss and metric\n",
        "        epoch_loss /= len(train_loader)\n",
        "        epoch_metric /= len(train_loader)\n",
        "\n",
        "        # Validation loop\n",
        "        model.eval()  # Set the model to evaluation mode\n",
        "        with torch.no_grad():  # Disable gradient calculation\n",
        "            val_loss = 0.0\n",
        "            val_metric = 0.0\n",
        "            for X_val, y_val in val_loader:\n",
        "                y_val = y_val.to(proper_dtype)\n",
        "                outputs_val = model(X_val)  # Make predictions\n",
        "                val_loss += criterion(outputs_val, y_val).item()  # Compute loss\n",
        "                if metric is not None:\n",
        "                    val_metric += metric(outputs_val, y_val)\n",
        "                else:\n",
        "                    val_metric += 0.0\n",
        "\n",
        "            val_loss /= len(val_loader)\n",
        "            val_metric /= len(val_loader)\n",
        "\n",
        "        # Append epoch results to history\n",
        "        history['epoch'].append(epoch)\n",
        "        history['train_loss'].append(epoch_loss)\n",
        "        history['train_metric'].append(epoch_metric)\n",
        "        history['val_loss'].append(val_loss)\n",
        "        history['val_metric'].append(val_metric)\n",
        "        history['learning_rate'].append(optimizer.param_groups[0]['lr'])\n",
        "\n",
        "        print(f'Epoch [{epoch+1}/{num_epochs}], Train Loss: {epoch_loss:.4f}, '\n",
        "              f'Train Metric: {epoch_metric:.4f}, Val Loss: {val_loss:.4f}, '\n",
        "              f'Val Metric: {val_metric:.4f}')\n",
        "\n",
        "        # THESE LINES ARE NEW AND ACCOUNT FOR SCHEDULERS\n",
        "        if scheduler is not None:\n",
        "            scheduler.step()\n",
        "\n",
        "    return history, model"
      ],
      "metadata": {
        "id": "jYIAWlq1UTg_"
      },
      "execution_count": null,
      "outputs": []
    },
    {
      "cell_type": "markdown",
      "metadata": {
        "id": "vz8q_HR8VeWk"
      },
      "source": [
        "**Task 5:**\n",
        "- Build a NN with: two hidden layers with 300 and 100 nodes, add <br>\n",
        "Batch Normalization layers before the linear layers,\n",
        "- Train the model with `nn.CrossEntropyLoss()` as `criterion`, <br> `scheduler` and `optimizer` provided above and `accuracy` as the `metric`, <br>\n",
        "- Fit the model to `train_loader` for 25 epochs. Use `valid_loader` for the <br>\n",
        "validation data."
      ]
    },
    {
      "cell_type": "markdown",
      "metadata": {
        "id": "IULt_p0ZVeWk"
      },
      "source": [
        "↓↓↓↓↓↓↓↓↓↓↓↓↓↓↓↓↓↓↓↓↓↓↓↓↓↓↓↓↓↓↓ your code goes below"
      ]
    },
    {
      "cell_type": "code",
      "execution_count": null,
      "metadata": {
        "id": "9qEmrTh-VeWk"
      },
      "outputs": [],
      "source": [
        "#model =\n",
        "\n",
        "#optimizer = torch.optim.NAdam(model.parameters())\n",
        "#scheduler = torch.optim.lr_scheduler.LambdaLR(optimizer, exponential_decay_fn)"
      ]
    },
    {
      "cell_type": "code",
      "execution_count": null,
      "metadata": {
        "id": "RMAcLEAnVeWk"
      },
      "outputs": [],
      "source": [
        "#history, model ="
      ]
    },
    {
      "cell_type": "markdown",
      "metadata": {
        "id": "c8t0NsaeVeWk"
      },
      "source": [
        "↑↑↑↑↑↑↑↑↑↑↑↑↑↑↑↑↑↑↑↑↑↑↑↑↑↑↑↑↑↑↑ your code goes above"
      ]
    },
    {
      "cell_type": "markdown",
      "source": [
        "Let's check out our model performance with a test loop."
      ],
      "metadata": {
        "id": "dCfV1NjfXovk"
      }
    },
    {
      "cell_type": "code",
      "source": [
        "def test_model(model, data_loader, criterion, metric=None):\n",
        "    model.eval()  # Set the model to evaluation mode\n",
        "\n",
        "    total_loss = 0.0  # Initialize the total loss and metric values\n",
        "    total_metric = 0.0\n",
        "\n",
        "    with torch.no_grad():\n",
        "        proper_dtype = torch.int64\n",
        "        X,y = next(iter(train_loader))\n",
        "        try:\n",
        "            loss = criterion(model(X), y.to(proper_dtype))\n",
        "        except:\n",
        "            try:\n",
        "                proper_dtype = torch.float32\n",
        "                loss = criterion(model(X), y.to(proper_dtype))\n",
        "            except:\n",
        "                print(\"No valid data-type could be found\")\n",
        "\n",
        "\n",
        "    with torch.no_grad():  # Disable gradient tracking\n",
        "        for batch in data_loader:\n",
        "            X, y = batch\n",
        "            y = y.to(proper_dtype)\n",
        "            # Pass the data to the model and make predictions\n",
        "            outputs = model(X)\n",
        "\n",
        "            # Compute the loss\n",
        "            loss = criterion(outputs, y)\n",
        "\n",
        "            # Add the loss and metric for the batch to the total values\n",
        "            total_loss += loss.item()\n",
        "\n",
        "            # THESE LINES HAVE BEEN UPDATED TO ACCOUNT FOR DEFAULT ARGUMENTS\n",
        "            if metric is not None:\n",
        "                total_metric += metric(outputs, y)\n",
        "            else:\n",
        "                total_metric += 0.0\n",
        "\n",
        "    # Average loss and metric for the entire dataset\n",
        "    avg_loss = total_loss / len(data_loader)\n",
        "    avg_metric = total_metric / len(data_loader)\n",
        "\n",
        "    print(f'Test Loss: {avg_loss:.4f}, Test Metric: {avg_metric:.4f}')\n",
        "\n",
        "    return avg_loss, avg_metric"
      ],
      "metadata": {
        "id": "dRGJO1ITXy9F"
      },
      "execution_count": null,
      "outputs": []
    },
    {
      "cell_type": "code",
      "execution_count": null,
      "metadata": {
        "id": "c0jcKWDaVeWk"
      },
      "outputs": [],
      "source": [
        "# note that the model is overfitting a lot. Might want to use dropout\n",
        "# also a CNN will perform much better as we will see next Hands-On\n",
        "print(\"train loss:\", test_model(model, train_loader, nn.CrossEntropyLoss())[0])\n",
        "print(\"test loss:\", test_model(model, test_loader, nn.CrossEntropyLoss())[0])"
      ]
    },
    {
      "cell_type": "code",
      "execution_count": null,
      "metadata": {
        "id": "QR8vzuI6VeWl"
      },
      "outputs": [],
      "source": [
        "# the learning rate is saved in the history under the key 'learning_rate'\n",
        "print(history.keys())"
      ]
    },
    {
      "cell_type": "code",
      "execution_count": null,
      "metadata": {
        "id": "15Bzc2EPVeWl"
      },
      "outputs": [],
      "source": [
        "plt.plot(history['epoch'], history[\"learning_rate\"], \"o-\")\n",
        "plt.xlabel(\"Epoch\")\n",
        "plt.ylabel(\"Learning Rate\")\n",
        "plt.title(\"Exponential Scheduling\", fontsize=14)\n",
        "plt.grid(True)\n",
        "plt.show()"
      ]
    },
    {
      "cell_type": "markdown",
      "metadata": {
        "id": "mYgXFT8oVeWl"
      },
      "source": [
        "## Task 6: Performance Scheduling\n",
        "\n",
        "Because **Loss vs. weight spaces are generally not globally convex-up**, it's <br>\n",
        "likely that your model will get stuck in a **local minimum loss**. When that <br>\n",
        "happens, it can mean that your **learning rate is** so **low** that it's unable to push <br>\n",
        "your model weights outside of the local minimum region. We can try to **increase** <br>\n",
        "**the learning rate** in that case **to escape a local minimum**. This is like pushing <br>\n",
        "a ball further up the side of a valley in the hopes that it eventually rolls <br>\n",
        "over a cliff and down into a deeper valley when you get to the top."
      ]
    },
    {
      "cell_type": "markdown",
      "metadata": {
        "id": "R8qoflzSVeWl"
      },
      "source": [
        "For performance scheduling, use the `ReduceLROnPlateau` scheduler. Example: <br>\n",
        "if you step the following learning rate scheduler it will step the learning <br>\n",
        "rate by 0.5 whenever the best validation loss does not improve for two <br>\n",
        "consecutive epochs:\n",
        "\n",
        "`scheduler2 = torch.optim.lr_scheduler.ReduceLROnPlateau(factor=0.5, patience=2)`\n",
        "\n",
        "**You will need to update the `scheduler.step()` portion of the  train_and_validate** <br>\n",
        "loop for `ReduceLROnPlateau`. Refer to the example at the bottom of [this page](https://pytorch.org/docs/stable/generated/torch.optim.lr_scheduler.ReduceLROnPlateau.html#torch.optim.lr_scheduler.ReduceLROnPlateau). <br>\n",
        "This is due to the fact that this optimizer has a patience argument that will <br>\n",
        "check a certain quantity to decide whether it's time to step.\n"
      ]
    },
    {
      "cell_type": "code",
      "source": [
        "def train_and_validate(train_loader, val_loader, model, optimizer, criterion, num_epochs, metric=None, scheduler=None):\n",
        "    history = {\n",
        "        'epoch': [],\n",
        "        'train_loss': [],\n",
        "        'train_metric': [],\n",
        "        'val_loss': [],\n",
        "        'val_metric': [],\n",
        "        'learning_rate': []\n",
        "    }  # Initialize a dictionary to store epoch-wise results\n",
        "\n",
        "    with torch.no_grad():\n",
        "        proper_dtype = torch.int64\n",
        "        X,y = next(iter(train_loader))\n",
        "        try:\n",
        "            loss = criterion(model(X), y.to(proper_dtype))\n",
        "        except:\n",
        "            try:\n",
        "                proper_dtype = torch.float32\n",
        "                loss = criterion(model(X), y.to(proper_dtype))\n",
        "            except:\n",
        "                print(\"No valid data-type could be found\")\n",
        "\n",
        "    for epoch in range(num_epochs):\n",
        "        model.train()  # Set the model to training mode\n",
        "        epoch_loss = 0.0  # Initialize the epoch loss and metric values\n",
        "        epoch_metric = 0.0\n",
        "\n",
        "        # Training loop\n",
        "        for X, y in train_loader:\n",
        "            y = y.to(proper_dtype)\n",
        "            optimizer.zero_grad()  # Clear existing gradients\n",
        "            outputs = model(X)  # Make predictions\n",
        "            loss = criterion(outputs, y)  # Compute the loss\n",
        "            loss.backward()  # Compute gradients\n",
        "            optimizer.step()  # Update model parameters\n",
        "\n",
        "            epoch_loss += loss.item()\n",
        "\n",
        "            # THESE LINES HAVE BEEN UPDATED TO ACCOUNT FOR DEFAULT ARGUMENTS\n",
        "            if metric is not None:\n",
        "                epoch_metric += metric(outputs, y)\n",
        "            else:\n",
        "                epoch_metric += 0.0\n",
        "\n",
        "        # Average training loss and metric\n",
        "        epoch_loss /= len(train_loader)\n",
        "        epoch_metric /= len(train_loader)\n",
        "\n",
        "        # Validation loop\n",
        "        model.eval()  # Set the model to evaluation mode\n",
        "        with torch.no_grad():  # Disable gradient calculation\n",
        "            val_loss = 0.0\n",
        "            val_metric = 0.0\n",
        "            for X_val, y_val in val_loader:\n",
        "                y_val = y_val.to(proper_dtype)\n",
        "                outputs_val = model(X_val)  # Make predictions\n",
        "                val_loss += criterion(outputs_val, y_val).item()  # Compute loss\n",
        "                if metric is not None:\n",
        "                    val_metric += metric(outputs_val, y_val)\n",
        "                else:\n",
        "                    val_metric += 0.0\n",
        "\n",
        "            val_loss /= len(val_loader)\n",
        "            val_metric /= len(val_loader)\n",
        "\n",
        "        # Append epoch results to history\n",
        "        history['epoch'].append(epoch)\n",
        "        history['train_loss'].append(epoch_loss)\n",
        "        history['train_metric'].append(epoch_metric)\n",
        "        history['val_loss'].append(val_loss)\n",
        "        history['val_metric'].append(val_metric)\n",
        "        history['learning_rate'].append(optimizer.param_groups[0]['lr'])\n",
        "\n",
        "        print(f'Epoch [{epoch+1}/{num_epochs}], Train Loss: {epoch_loss:.4f}, '\n",
        "              f'Train Metric: {epoch_metric:.4f}, Val Loss: {val_loss:.4f}, '\n",
        "              f'Val Metric: {val_metric:.4f}')\n",
        "\n",
        "        if scheduler is not None:\n",
        "            # MODIFY THIS LINE TO WORK PROPERLY FOR REDUCELRONPLATEAU\n",
        "            scheduler.step(  # This will crash if you don't fix it\n",
        "\n",
        "    return history, model"
      ],
      "metadata": {
        "id": "_Dc7qJ7rbDjK"
      },
      "execution_count": null,
      "outputs": []
    },
    {
      "cell_type": "markdown",
      "metadata": {
        "id": "js5KNR7VVeWm"
      },
      "source": [
        "**Task 6:**   \n",
        "a) Re-use (copy-paste) the NN from Task 5: two hidden layers with 300 and 100 <br>\n",
        "nodes and Batch Normalization layers before the linear layers. But, now use Adam <br> optimizer with a initial lr=0.01 and ReduceLROnPlateau scheduler.<br>\n",
        "b) Compare the results with the previous one (Task 5), <br>\n",
        "c) Comment on the learning rate as a function of epochs using the plot given <br>below."
      ]
    },
    {
      "cell_type": "markdown",
      "metadata": {
        "id": "JiU1KpNSVeWm"
      },
      "source": [
        "↓↓↓↓↓↓↓↓↓↓↓↓↓↓↓↓↓↓↓↓↓↓↓↓↓↓↓↓↓↓↓ your code goes below"
      ]
    },
    {
      "cell_type": "code",
      "execution_count": null,
      "metadata": {
        "id": "-ndjYwyRVeWm"
      },
      "outputs": [],
      "source": []
    },
    {
      "cell_type": "code",
      "execution_count": null,
      "metadata": {
        "id": "zNA3UETXVeWm"
      },
      "outputs": [],
      "source": []
    },
    {
      "cell_type": "code",
      "execution_count": null,
      "metadata": {
        "id": "SbpIrSdGVeWm"
      },
      "outputs": [],
      "source": []
    },
    {
      "cell_type": "code",
      "execution_count": null,
      "metadata": {
        "id": "yfUNAspYVeWm"
      },
      "outputs": [],
      "source": [
        "plt.plot(history['epoch'], history[\"learning_rate\"], \"bo-\")\n",
        "plt.xlabel(\"Epoch\")\n",
        "plt.ylabel(\"Learning Rate\", color='b')\n",
        "plt.tick_params('y', colors='b')\n",
        "plt.gca().set_xlim(0, n_epochs - 1)\n",
        "plt.grid(True)\n",
        "\n",
        "ax2 = plt.gca().twinx()\n",
        "ax2.plot(history['epoch'], history[\"val_loss\"], \"r^-\")\n",
        "ax2.set_ylabel('Validation Loss', color='r')\n",
        "ax2.tick_params('y', colors='r')\n",
        "\n",
        "plt.title(\"Reduce LR on Plateau\", fontsize=14)\n",
        "plt.show()"
      ]
    },
    {
      "cell_type": "markdown",
      "metadata": {
        "id": "c0AZiqX-VeWm"
      },
      "source": [
        "↑↑↑↑↑↑↑↑↑↑↑↑↑↑↑↑↑↑↑↑↑↑↑↑↑↑↑↑↑↑↑ your code goes above"
      ]
    },
    {
      "cell_type": "markdown",
      "source": [
        "↓↓↓↓↓↓↓↓↓↓↓↓↓↓↓↓↓↓↓↓↓↓↓↓↓↓↓↓↓↓↓ your answer goes below"
      ],
      "metadata": {
        "id": "KpAkO6_DcdG8"
      }
    },
    {
      "cell_type": "markdown",
      "metadata": {
        "id": "Y0IjQd10VeWm"
      },
      "source": [
        "Task 6 c) answer:"
      ]
    },
    {
      "cell_type": "markdown",
      "metadata": {
        "id": "0fJ2xV06cZ_Q"
      },
      "source": [
        "↑↑↑↑↑↑↑↑↑↑↑↑↑↑↑↑↑↑↑↑↑↑↑↑↑↑↑↑↑↑↑ your answer goes above"
      ]
    },
    {
      "cell_type": "markdown",
      "metadata": {
        "id": "9NPXtVJLVeWm"
      },
      "source": [
        "## Task 7 Avoiding Overfitting Through Regularization\n",
        "\n",
        "A **dropout layer** essentially **takes all inputs** passed to it and randomly **sets** <br>\n",
        "**some inputs to 0** with a certain rate. One way that models can **overfit** to <br>\n",
        "training data is by essentially *\"memorizing\"* or encoding into its function some <br>\n",
        "**properties that are specific to one data set**.\n",
        "\n",
        "We can help mitigate this by ensuring our data is as **non-homogeneous within** <br>\n",
        "**each sample** (train, val, test) and as **homogeneous across our samples as** <br>\n",
        "**possible**. This isn't always enough as we often end up showing our model the <br>\n",
        "same training data multiple times and **it may learn patterns about the training** <br>\n",
        "**data that don't exist in other data**.\n",
        "\n",
        "By adding dropout, we **decrease the likelihood that it learns** these sorts of <br>\n",
        "**inter-sample patterns by adding random variations** to either the data or the way <br>\n",
        "it handles the same data each time.\n",
        "\n",
        "Our models above all overfit (why?). Let's now tackle this problem using <br> dropout."
      ]
    },
    {
      "cell_type": "markdown",
      "metadata": {
        "id": "QC8Dypw2VeWn"
      },
      "source": [
        "**Task 7:**   \n",
        "a) Copy the code for the model of Task 6, add a dropout (20% rate) before each <br> hidden layer (https://pytorch.org/docs/stable/generated/torch.nn.Dropout.html) <br>\n",
        "b) Compare the results."
      ]
    },
    {
      "cell_type": "markdown",
      "metadata": {
        "id": "-zc2SbByVeWn"
      },
      "source": [
        "↓↓↓↓↓↓↓↓↓↓↓↓↓↓↓↓↓↓↓↓↓↓↓↓↓↓↓↓↓↓↓ your code goes below"
      ]
    },
    {
      "cell_type": "code",
      "execution_count": null,
      "metadata": {
        "id": "HvOG26esVeWn"
      },
      "outputs": [],
      "source": []
    },
    {
      "cell_type": "markdown",
      "metadata": {
        "id": "VPmzlbiFVeWn"
      },
      "source": [
        "↑↑↑↑↑↑↑↑↑↑↑↑↑↑↑↑↑↑↑↑↑↑↑↑↑↑↑↑↑↑↑ your code goes above"
      ]
    },
    {
      "cell_type": "code",
      "execution_count": null,
      "metadata": {
        "id": "auu3TwOcVeWn"
      },
      "outputs": [],
      "source": [
        "print(\"train loss:\", test_model(model, train_loader, nn.CrossEntropyLoss())[0])\n",
        "print(\"test loss:\", test_model(model, test_loader, nn.CrossEntropyLoss())[0])"
      ]
    },
    {
      "cell_type": "code",
      "execution_count": null,
      "metadata": {
        "id": "eJRBiKG7VeWn"
      },
      "outputs": [],
      "source": [
        "plt.plot(history['epoch'], history[\"learning_rate\"], \"bo-\")\n",
        "plt.xlabel(\"Epoch\")\n",
        "plt.ylabel(\"Learning Rate\", color='b')\n",
        "plt.tick_params('y', colors='b')\n",
        "plt.gca().set_xlim(0, n_epochs - 1)\n",
        "plt.grid(True)\n",
        "\n",
        "ax2 = plt.gca().twinx()\n",
        "ax2.plot(history['epoch'], history[\"val_loss\"], \"r^-\")\n",
        "ax2.set_ylabel('Validation Loss', color='r')\n",
        "ax2.tick_params('y', colors='r')\n",
        "\n",
        "plt.title(\"Reduce LR on Plateau\", fontsize=14)\n",
        "plt.show()"
      ]
    },
    {
      "cell_type": "markdown",
      "metadata": {
        "id": "GsCwAFz9VeWn"
      },
      "source": [
        "# Optional Exercise (Bonus points): Using Callbacks during Training"
      ]
    },
    {
      "cell_type": "markdown",
      "metadata": {
        "id": "snHWdBwrVeWn"
      },
      "source": [
        "**Task 8:** Add two of the following features to your model training loop:<br>\n",
        "a) Keep track of the model with the best validation loss and return the best <br>\n",
        "model at the end of the traininig loop instead of the last model.<br>\n",
        "b) Stop model training after 5 epochs of loss not impoving <br>\n",
        "c) Add [Tensorboard logging](https://pytorch.org/tutorials/recipes/recipes/tensorboard_with_pytorch.html) for one or more quantities from your model <br> training history\n",
        "\n",
        "You can use the code snippets below."
      ]
    },
    {
      "cell_type": "markdown",
      "metadata": {
        "id": "vXmUVkCxVeWo"
      },
      "source": [
        "↓↓↓↓↓↓↓↓↓↓↓↓↓↓↓↓↓↓↓↓↓↓↓↓↓↓↓↓↓↓↓ your code goes below"
      ]
    },
    {
      "cell_type": "code",
      "source": [
        "from torch.utils.tensorboard import SummaryWriter\n",
        "writer = SummaryWriter()"
      ],
      "metadata": {
        "id": "XNThGPOkfaLl"
      },
      "execution_count": null,
      "outputs": []
    },
    {
      "cell_type": "code",
      "source": [
        "def train_and_validate(train_loader, val_loader, model, optimizer, criterion, num_epochs, metric=None, scheduler=None):\n",
        "    history = {\n",
        "        'epoch': [],\n",
        "        'train_loss': [],\n",
        "        'train_metric': [],\n",
        "        'val_loss': [],\n",
        "        'val_metric': [],\n",
        "        'learning_rate': []\n",
        "    }  # Initialize a dictionary to store epoch-wise results\n",
        "\n",
        "    with torch.no_grad():\n",
        "        proper_dtype = torch.int64\n",
        "        X,y = next(iter(train_loader))\n",
        "        try:\n",
        "            loss = criterion(model(X), y.to(proper_dtype))\n",
        "        except:\n",
        "            try:\n",
        "                proper_dtype = torch.float32\n",
        "                loss = criterion(model(X), y.to(proper_dtype))\n",
        "            except:\n",
        "                print(\"No valid data-type could be found\")\n",
        "\n",
        "    for epoch in range(num_epochs):\n",
        "        model.train()  # Set the model to training mode\n",
        "        epoch_loss = 0.0  # Initialize the epoch loss and metric values\n",
        "        epoch_metric = 0.0\n",
        "\n",
        "        # Training loop\n",
        "        for X, y in train_loader:\n",
        "            y = y.to(proper_dtype)\n",
        "            optimizer.zero_grad()  # Clear existing gradients\n",
        "            outputs = model(X)  # Make predictions\n",
        "            loss = criterion(outputs, y)  # Compute the loss\n",
        "            loss.backward()  # Compute gradients\n",
        "            optimizer.step()  # Update model parameters\n",
        "\n",
        "            epoch_loss += loss.item()\n",
        "\n",
        "            # THESE LINES HAVE BEEN UPDATED TO ACCOUNT FOR DEFAULT ARGUMENTS\n",
        "            if metric is not None:\n",
        "                epoch_metric += metric(outputs, y)\n",
        "            else:\n",
        "                epoch_metric += 0.0\n",
        "\n",
        "        # Average training loss and metric\n",
        "        epoch_loss /= len(train_loader)\n",
        "        epoch_metric /= len(train_loader)\n",
        "\n",
        "        # Validation loop\n",
        "        model.eval()  # Set the model to evaluation mode\n",
        "        with torch.no_grad():  # Disable gradient calculation\n",
        "            val_loss = 0.0\n",
        "            val_metric = 0.0\n",
        "            for X_val, y_val in val_loader:\n",
        "                y_val = y_val.to(proper_dtype)\n",
        "                outputs_val = model(X_val)  # Make predictions\n",
        "                val_loss += criterion(outputs_val, y_val).item()  # Compute loss\n",
        "                if metric is not None:\n",
        "                    val_metric += metric(outputs_val, y_val)\n",
        "                else:\n",
        "                    val_metric += 0.0\n",
        "\n",
        "            val_loss /= len(val_loader)\n",
        "            val_metric /= len(val_loader)\n",
        "\n",
        "        # Append epoch results to history\n",
        "        history['epoch'].append(epoch)\n",
        "        history['train_loss'].append(epoch_loss)\n",
        "        history['train_metric'].append(epoch_metric)\n",
        "        history['val_loss'].append(val_loss)\n",
        "        history['val_metric'].append(val_metric)\n",
        "        history['learning_rate'].append(optimizer.param_groups[0]['lr'])\n",
        "\n",
        "        print(f'Epoch [{epoch+1}/{num_epochs}], Train Loss: {epoch_loss:.4f}, '\n",
        "              f'Train Metric: {epoch_metric:.4f}, Val Loss: {val_loss:.4f}, '\n",
        "              f'Val Metric: {val_metric:.4f}')\n",
        "\n",
        "        if scheduler is not None:\n",
        "            # MODIFY THIS LINE TO WORK PROPERLY FOR REDUCELRONPLATEAU\n",
        "            scheduler.step(  # This will crash if you don't fix it\n",
        "\n",
        "    return history, model"
      ],
      "metadata": {
        "id": "JA9ORcrBiBZW"
      },
      "execution_count": null,
      "outputs": []
    },
    {
      "cell_type": "code",
      "execution_count": null,
      "metadata": {
        "id": "hok1kPtOVeWo"
      },
      "outputs": [],
      "source": []
    },
    {
      "cell_type": "code",
      "source": [
        "criterion = torch.nn.CrossEntropyLoss()\n",
        "optimizer = torch.optim.Adam(model.parameters(), lr=0.01)\n",
        "lr_scheduler = torch.optim.lr_scheduler.ReduceLROnPlateau(optimizer, factor=0.5, patience=2)\n",
        "\n",
        "def accuracy_metric(pred, target):\n",
        "    if len(pred.shape) == 1:\n",
        "        accuracy = torch.sum(torch.eq(pred > 0.5, target)).item() / len(pred)\n",
        "    else:\n",
        "        pred = pred.argmax(dim=1)\n",
        "        accuracy = torch.sum(pred == target).item() / len(pred)\n",
        "    return accuracy"
      ],
      "metadata": {
        "id": "Hfgqmx3Cdzkg"
      },
      "execution_count": null,
      "outputs": []
    },
    {
      "cell_type": "code",
      "execution_count": null,
      "metadata": {
        "id": "SWrGsa6Zdzkh"
      },
      "outputs": [],
      "source": [
        "history, model = train_and_validate(train_loader, valid_loader, model,\n",
        "                                    optimizer=optimizer, criterion=criterion,\n",
        "                                    num_epochs=50, metric=accuracy_metric)"
      ]
    },
    {
      "cell_type": "code",
      "source": [
        "writer.flush()"
      ],
      "metadata": {
        "id": "yNNk1GA9ffr5"
      },
      "execution_count": null,
      "outputs": []
    },
    {
      "cell_type": "code",
      "source": [
        "writer.close()"
      ],
      "metadata": {
        "id": "7EHu2mLkfk5c"
      },
      "execution_count": null,
      "outputs": []
    },
    {
      "cell_type": "code",
      "source": [
        "%load_ext tensorboard\n",
        "%tensorboard --logdir=./runs --port=6006"
      ],
      "metadata": {
        "id": "232M-anzhqkh"
      },
      "execution_count": null,
      "outputs": []
    },
    {
      "cell_type": "markdown",
      "metadata": {
        "id": "6c39ZmsuVeWo"
      },
      "source": [
        "↑↑↑↑↑↑↑↑↑↑↑↑↑↑↑↑↑↑↑↑↑↑↑↑↑↑↑↑↑↑↑ your code goes above"
      ]
    }
  ],
  "metadata": {
    "kernelspec": {
      "display_name": "Python 3",
      "language": "python",
      "name": "python3"
    },
    "language_info": {
      "codemirror_mode": {
        "name": "ipython",
        "version": 3
      },
      "file_extension": ".py",
      "mimetype": "text/x-python",
      "name": "python",
      "nbconvert_exporter": "python",
      "pygments_lexer": "ipython3",
      "version": "3.10.0"
    },
    "nav_menu": {
      "height": "360px",
      "width": "416px"
    },
    "toc": {
      "navigate_menu": true,
      "number_sections": true,
      "sideBar": true,
      "threshold": 6,
      "toc_cell": false,
      "toc_section_display": "block",
      "toc_window_display": false
    },
    "colab": {
      "provenance": [],
      "include_colab_link": true
    }
  },
  "nbformat": 4,
  "nbformat_minor": 0
}